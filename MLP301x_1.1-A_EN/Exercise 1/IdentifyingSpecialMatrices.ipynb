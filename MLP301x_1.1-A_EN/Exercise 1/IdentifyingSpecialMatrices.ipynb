{
  "nbformat": 4,
  "nbformat_minor": 0,
  "metadata": {
    "coursera": {
      "course_slug": "linear-algebra-machine-learning",
      "graded_item_id": "vhy4M",
      "launcher_item_id": "3vbW4"
    },
    "kernelspec": {
      "display_name": "Python 3",
      "language": "python",
      "name": "python3"
    },
    "language_info": {
      "codemirror_mode": {
        "name": "ipython",
        "version": 3
      },
      "file_extension": ".py",
      "mimetype": "text/x-python",
      "name": "python",
      "nbconvert_exporter": "python",
      "pygments_lexer": "ipython3",
      "version": "3.7.6"
    },
    "colab": {
      "name": "Exercise 1 - IdentifyingSpecialMatrices.ipynb",
      "provenance": [],
      "collapsed_sections": []
    }
  },
  "cells": [
    {
      "cell_type": "markdown",
      "metadata": {
        "id": "Y3SJDAOdnxkG"
      },
      "source": [
        "# Identifying special matrices\n",
        "## Instructions\n",
        "In this exercise, you shall write a function that will test if a 4×4 matrix is singular, i.e. to determine if an inverse exists, before calculating it.\n",
        "\n",
        "You shall use the method of converting a matrix to echelon form, and testing if this fails by leaving zeros that can’t be removed on the leading diagonal.\n",
        "\n",
        "Don't worry if you've not coded before, a framework for the function has already been written.\n",
        "Look through the code, and you'll be instructed where to make changes.\n",
        "We'll do the first two rows, and you can use this as a guide to do the last two.\n",
        "\n",
        "### Matrices in Python\n",
        "In the *numpy* package in Python, matrices are indexed using zero for the top-most column and left-most row.\n",
        "I.e., the matrix structure looks like this:\n",
        "```python\n",
        "A[0, 0]  A[0, 1]  A[0, 2]  A[0, 3]\n",
        "A[1, 0]  A[1, 1]  A[1, 2]  A[1, 3]\n",
        "A[2, 0]  A[2, 1]  A[2, 2]  A[2, 3]\n",
        "A[3, 0]  A[3, 1]  A[3, 2]  A[3, 3]\n",
        "```\n",
        "You can access the value of each element individually using,\n",
        "```python\n",
        "A[n, m]\n",
        "```\n",
        "which will give the n'th row and m'th column (starting with zero).\n",
        "You can also access a whole row at a time using,\n",
        "```python\n",
        "A[n]\n",
        "```\n",
        "Which you will see will be useful when calculating linear combinations of rows.\n",
        "\n",
        "A final note - Python is sensitive to indentation.\n",
        "All the code you should complete will be at the same level of indentation as the instruction comment.\n",
        "\n",
        "### How to complete\n",
        "Edit the code in the cell below to complete the exercise.\n"
      ]
    },
    {
      "cell_type": "code",
      "metadata": {
        "id": "OrOW6by59ehG"
      },
      "source": [
        "import numpy as np\n",
        "A = np.array([\n",
        "        [1, 2, 3, 4],\n",
        "        [5, 6, 7, 8],\n",
        "        [9, 10, 11, 12],\n",
        "        [13, 14, 15, 16]\n",
        "    ], dtype=np.int_)"
      ],
      "execution_count": 145,
      "outputs": []
    },
    {
      "cell_type": "code",
      "metadata": {
        "id": "J3F9NuAt92bI",
        "outputId": "4978ef9c-b2d3-4653-eae6-c7280f042eaf",
        "colab": {
          "base_uri": "https://localhost:8080/",
          "height": 34
        }
      },
      "source": [
        "A[2,1]"
      ],
      "execution_count": 146,
      "outputs": [
        {
          "output_type": "execute_result",
          "data": {
            "text/plain": [
              "10"
            ]
          },
          "metadata": {
            "tags": []
          },
          "execution_count": 146
        }
      ]
    },
    {
      "cell_type": "code",
      "metadata": {
        "id": "8viGp5z_nxkH"
      },
      "source": [
        "# GRADED FUNCTION\n",
        "import numpy as np\n",
        "\n",
        "# Our function will go through the matrix replacing each row in order turning it into echelon form.\n",
        "# If at any point it fails because it can't put a 1 in the leading diagonal,\n",
        "# we will return the value True, otherwise, we will return False.\n",
        "# There is no need to edit this function.\n",
        "def isSingular(A) :\n",
        "    B = np.array(A, dtype=np.float_) # Make B as a copy of A, since we're going to alter it's values.\n",
        "    try:\n",
        "        fixRowZero(B)\n",
        "        fixRowOne(B)\n",
        "        fixRowTwo(B)\n",
        "        fixRowThree(B)\n",
        "    except MatrixIsSingular:\n",
        "        return True\n",
        "    return False\n",
        "\n",
        "# This next line defines our error flag. For when things go wrong if the matrix is singular.\n",
        "# There is no need to edit this line.\n",
        "class MatrixIsSingular(Exception): pass\n",
        "\n",
        "# For Row Zero, all we require is the first element is equal to 1.\n",
        "# We'll divide the row by the value of A[0, 0].\n",
        "# This will get us in trouble though if A[0, 0] equals 0, so first we'll test for that,\n",
        "# and if this is true, we'll add one of the lower rows to the first one before the division.\n",
        "# We'll repeat the test going down each lower row until we can do the division.\n",
        "# There is no need to edit this function.\n",
        "def fixRowZero(A) :\n",
        "    if A[0,0] == 0 :\n",
        "        A[0] = A[0] + A[1]\n",
        "    if A[0,0] == 0 :\n",
        "        A[0] = A[0] + A[2]\n",
        "    if A[0,0] == 0 :\n",
        "        A[0] = A[0] + A[3]\n",
        "    if A[0,0] == 0 :\n",
        "        raise MatrixIsSingular()\n",
        "    A[0] = A[0] / A[0,0]\n",
        "    return A\n",
        "\n",
        "# First we'll set the sub-diagonal elements to zero, i.e. A[1,0].\n",
        "# Next we want the diagonal element to be equal to one.\n",
        "# We'll divide the row by the value of A[1, 1].\n",
        "# Again, we need to test if this is zero.\n",
        "# If so, we'll add a lower row and repeat setting the sub-diagonal elements to zero.\n",
        "# There is no need to edit this function.\n",
        "def fixRowOne(A) :\n",
        "    A[1] = A[1] - A[1,0] * A[0]\n",
        "    if A[1,1] == 0 :\n",
        "        A[1] = A[1] + A[2]\n",
        "        A[1] = A[1] - A[1,0] * A[0]\n",
        "    if A[1,1] == 0 :\n",
        "        A[1] = A[1] + A[3]\n",
        "        A[1] = A[1] - A[1,0] * A[0]\n",
        "    if A[1,1] == 0 :\n",
        "        raise MatrixIsSingular()\n",
        "    A[1] = A[1] / A[1,1]\n",
        "    return A\n",
        "\n",
        "# This is the first function that you should complete.\n",
        "# Follow the instructions inside the function at each comment.\n",
        "def fixRowTwo(A) :\n",
        "    # Insert code below to set the sub-diagonal elements of row two to zero (there are two of them).\n",
        "    A[2] = A[2] - A[2,0] * A[0]\n",
        "    A[2] = A[2] - A[2,1] * A[1]\n",
        "    print(A[2])\n",
        "    \n",
        "    # Next we'll test that the diagonal element is not zero.\n",
        "    if A[2,2] == 0 :\n",
        "        # Insert code below that adds a lower row to row 2.\n",
        "        A[2] = A[2] + A[3]\n",
        "        \n",
        "        # Now repeat your code which sets the sub-diagonal elements to zero.\n",
        "        A[2] = A[2] - A[2,0] * A[0]\n",
        "        A[2] = A[2] - A[2,1] * A[1]\n",
        "        \n",
        "    if A[2,2] == 0 :\n",
        "        raise MatrixIsSingular()\n",
        "    # Finally set the diagonal element to one by dividing the whole row by that element.\n",
        "    A[2] = A[2] / A[2,2]\n",
        "    \n",
        "    return A\n",
        "\n",
        "# You should also complete this function\n",
        "# Follow the instructions inside the function at each comment.\n",
        "def fixRowThree(A) :\n",
        "    # Insert code below to set the sub-diagonal elements of row three to zero.\n",
        "    A[3] = A[3] - A[3,0] * A[0]\n",
        "    A[3] = A[3] - A[3,1] * A[1]\n",
        "    A[3] = A[3] - A[3,2] * A[2]\n",
        "    \n",
        "    # Complete the if statement to test if the diagonal element is zero.\n",
        "    if A[3,3] == 0:\n",
        "        raise MatrixIsSingular()\n",
        "    # Transform the row to set the diagonal element to one.\n",
        "    A[3] = A[3] / A[3,3]\n",
        "    \n",
        "    return A"
      ],
      "execution_count": 147,
      "outputs": []
    },
    {
      "cell_type": "markdown",
      "metadata": {
        "id": "p0Kd6iounxkK"
      },
      "source": [
        "## Test your code\n",
        "To test the code you've written above, run the cell (select the cell above, then press the play button [ ▶| ] or press shift-enter).\n",
        "You can then use the code below to test out your function.\n",
        "You don't need to submit this cell; you can edit and run it as much as you like.\n",
        "\n",
        "Try out your code on tricky test cases!"
      ]
    },
    {
      "cell_type": "code",
      "metadata": {
        "id": "YLiHm4dnnxkL",
        "outputId": "3d88cb19-a243-4ead-c057-3dc959aa4990",
        "colab": {
          "base_uri": "https://localhost:8080/",
          "height": 51
        }
      },
      "source": [
        "A = np.array([\n",
        "        [2, 0, 0, 0],\n",
        "        [0, 3, 0, 0],\n",
        "        [0, 0, 4, 4],\n",
        "        [0, 0, 5, 5]\n",
        "    ], dtype=np.float_)\n",
        "isSingular(A)\n",
        "\n",
        "# Expected Result: True"
      ],
      "execution_count": 148,
      "outputs": [
        {
          "output_type": "stream",
          "text": [
            "[0. 0. 4. 4.]\n"
          ],
          "name": "stdout"
        },
        {
          "output_type": "execute_result",
          "data": {
            "text/plain": [
              "True"
            ]
          },
          "metadata": {
            "tags": []
          },
          "execution_count": 148
        }
      ]
    },
    {
      "cell_type": "code",
      "metadata": {
        "id": "36qDLPldnxkO",
        "outputId": "f45e26ac-8eb4-48d8-b2fc-7364911fed6d",
        "colab": {
          "base_uri": "https://localhost:8080/",
          "height": 85
        }
      },
      "source": [
        "A = np.array([\n",
        "        [0, 7, -5, 3],\n",
        "        [2, 8, 0, 4],\n",
        "        [3, 12, 0, 5],\n",
        "        [1, 3, 1, 3]\n",
        "    ], dtype=np.float_)\n",
        "fixRowZero(A)\n",
        "\n",
        "# Expected Result:\n",
        "# array([[ 1. ,  7.5, -2.5,  3.5],\n",
        "#        [ 2. ,  8. ,  0. ,  4. ],\n",
        "#        [ 3. , 12. ,  0. ,  5. ],\n",
        "#        [ 1. ,  3. ,  1. ,  3. ]])"
      ],
      "execution_count": 149,
      "outputs": [
        {
          "output_type": "execute_result",
          "data": {
            "text/plain": [
              "array([[ 1. ,  7.5, -2.5,  3.5],\n",
              "       [ 2. ,  8. ,  0. ,  4. ],\n",
              "       [ 3. , 12. ,  0. ,  5. ],\n",
              "       [ 1. ,  3. ,  1. ,  3. ]])"
            ]
          },
          "metadata": {
            "tags": []
          },
          "execution_count": 149
        }
      ]
    },
    {
      "cell_type": "code",
      "metadata": {
        "id": "O6fd2sGb_p9M",
        "outputId": "0eb1a8d9-3758-4eb8-8dcf-46ebaf82a7b7",
        "colab": {
          "base_uri": "https://localhost:8080/",
          "height": 85
        }
      },
      "source": [
        "fixRowOne(A)\n",
        "\n",
        "# Expected Result: \n",
        "# array([[ 1.        ,  7.5       , -2.5       ,  3.5       ],\n",
        "#        [-0.        ,  1.        , -0.71428571,  0.42857143],\n",
        "#        [ 3.        , 12.        ,  0.        ,  5.        ],\n",
        "#        [ 1.        ,  3.        ,  1.        ,  3.        ]])"
      ],
      "execution_count": 150,
      "outputs": [
        {
          "output_type": "execute_result",
          "data": {
            "text/plain": [
              "array([[ 1.        ,  7.5       , -2.5       ,  3.5       ],\n",
              "       [-0.        ,  1.        , -0.71428571,  0.42857143],\n",
              "       [ 3.        , 12.        ,  0.        ,  5.        ],\n",
              "       [ 1.        ,  3.        ,  1.        ,  3.        ]])"
            ]
          },
          "metadata": {
            "tags": []
          },
          "execution_count": 150
        }
      ]
    },
    {
      "cell_type": "code",
      "metadata": {
        "id": "jRlqBlCWnxkT",
        "outputId": "f7f30931-85f1-41d6-8ed7-96cc99c72fd7",
        "colab": {
          "base_uri": "https://localhost:8080/",
          "height": 102
        }
      },
      "source": [
        "fixRowTwo(A)\n",
        "\n",
        "# Expected Result:\n",
        "# array([[ 1.        ,  7.5       , -2.5       ,  3.5       ],\n",
        "#        [-0.        ,  1.        , -0.71428571,  0.42857143],\n",
        "#        [ 0.        ,  0.        ,  1.        ,  1.5       ],\n",
        "#        [ 1.        ,  3.        ,  1.        ,  3.        ]])"
      ],
      "execution_count": 151,
      "outputs": [
        {
          "output_type": "stream",
          "text": [
            "[ 0.  0.  0. -1.]\n"
          ],
          "name": "stdout"
        },
        {
          "output_type": "execute_result",
          "data": {
            "text/plain": [
              "array([[ 1.        ,  7.5       , -2.5       ,  3.5       ],\n",
              "       [-0.        ,  1.        , -0.71428571,  0.42857143],\n",
              "       [ 0.        ,  0.        ,  1.        ,  1.5       ],\n",
              "       [ 1.        ,  3.        ,  1.        ,  3.        ]])"
            ]
          },
          "metadata": {
            "tags": []
          },
          "execution_count": 151
        }
      ]
    },
    {
      "cell_type": "code",
      "metadata": {
        "id": "udmapA1enxkW",
        "outputId": "e398839d-7e28-41f2-9a32-fbbb4f227f15",
        "colab": {
          "base_uri": "https://localhost:8080/",
          "height": 85
        }
      },
      "source": [
        "fixRowThree(A)\n",
        "\n",
        "# Expected Result:\n",
        "# array([[ 1.        ,  7.5       , -2.5       ,  3.5       ],\n",
        "#        [-0.        ,  1.        , -0.71428571,  0.42857143],\n",
        "#        [ 0.        ,  0.        ,  1.        ,  1.5       ],\n",
        "#        [ 0.        ,  0.        ,  0.        ,  1.        ]])"
      ],
      "execution_count": 152,
      "outputs": [
        {
          "output_type": "execute_result",
          "data": {
            "text/plain": [
              "array([[ 1.        ,  7.5       , -2.5       ,  3.5       ],\n",
              "       [-0.        ,  1.        , -0.71428571,  0.42857143],\n",
              "       [ 0.        ,  0.        ,  1.        ,  1.5       ],\n",
              "       [ 0.        ,  0.        ,  0.        ,  1.        ]])"
            ]
          },
          "metadata": {
            "tags": []
          },
          "execution_count": 152
        }
      ]
    }
  ]
}